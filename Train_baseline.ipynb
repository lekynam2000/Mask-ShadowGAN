{
 "cells": [
  {
   "cell_type": "code",
   "execution_count": null,
   "id": "5df9c4cb",
   "metadata": {},
   "outputs": [
    {
     "name": "stdout",
     "output_type": "stream",
     "text": [
      "/media/ntu/volume1/home/s122md306_05/Mask-ShadowGAN/train_Mask-ShadowGAN:143: DeprecationWarning: BICUBIC is deprecated and will be removed in Pillow 10 (2023-07-01). Use Resampling.BICUBIC instead.\n",
      "  transforms.Resize(int(opt.size * 1.12), Image.BICUBIC),\n",
      "/media/ntu/volume1/home/s122md306_05/miniconda3/lib/python3.10/site-packages/torchvision/transforms/transforms.py:329: UserWarning: Argument 'interpolation' of type int is deprecated since 0.13 and will be removed in 0.15. Please use InterpolationMode enum.\n",
      "  warnings.warn(\n",
      "using GPU: 1\n",
      "Namespace(epoch=0, n_epochs=100, batchSize=1, dataroot='../dataset/ISTD_Dataset', lr=0.0002, decay_epoch=50, size=400, input_nc=3, output_nc=3, cuda=True, n_cpu=8, snapshot_epochs=20, resume=False, iter_loss=133, data_len=9999, output_dir='../output/output_100_epoches_2023-02-08 00:10:39.041374', gpu_id=1, log_path='../output/output_100_epoches_2023-02-08 00:10:39.041374/2023-02-08 00:10:39.041439.txt')\n",
      "  0%|          | 0/100 [00:00<?, ?it/s]\n",
      "  0%|          | 0/1330 [00:00<?, ?it/s]\u001b[A/media/ntu/volume1/home/s122md306_05/miniconda3/lib/python3.10/site-packages/torch/nn/modules/loss.py:536: UserWarning: Using a target size (torch.Size([1])) that is different to the input size (torch.Size([1, 1])). This will likely lead to incorrect results due to broadcasting. Please ensure they have the same size.\n",
      "  return F.mse_loss(input, target, reduction=self.reduction)\n",
      "\n",
      " 11%|█         | 148/1330 [01:00<08:00,  2.46it/s]\u001b[A\n",
      " 11%|█         | 148/1330 [01:20<08:00,  2.46it/s]\u001b[A\n",
      " 22%|██▏       | 291/1330 [02:00<07:11,  2.41it/s]\u001b[A\n",
      " 22%|██▏       | 291/1330 [02:20<07:11,  2.41it/s]\u001b[A\n",
      " 33%|███▎      | 441/1330 [03:00<06:03,  2.44it/s]\u001b[A\n",
      " 33%|███▎      | 441/1330 [03:20<06:03,  2.44it/s]\u001b[A\n",
      " 44%|████▍     | 587/1330 [04:00<05:04,  2.44it/s]\u001b[A\n",
      " 44%|████▍     | 587/1330 [04:20<05:04,  2.44it/s]\u001b[A\n",
      " 56%|█████▌    | 740/1330 [05:00<03:58,  2.48it/s]\u001b[A\n",
      " 56%|█████▌    | 740/1330 [05:20<03:58,  2.48it/s]\u001b[A\n",
      " 67%|██████▋   | 889/1330 [06:00<02:57,  2.48it/s]\u001b[A\n",
      " 67%|██████▋   | 889/1330 [06:20<02:57,  2.48it/s]\u001b[A\n",
      " 78%|███████▊  | 1037/1330 [07:01<01:58,  2.47it/s]\u001b[A"
     ]
    }
   ],
   "source": [
    "!python3 train_Mask-ShadowGAN --n_epochs 100 --dataroot \"../dataset/ISTD_Dataset\" \\\n",
    " --decay_epoch 50 --iter_loss 133 --batchSize 1 --output_dir \"../output/output_100_epoches\"\\\n",
    " --snapshot_epochs 20 --gpu 1 2>&1 | tee ../epoches_100.log"
   ]
  },
  {
   "cell_type": "code",
   "execution_count": null,
   "id": "144071b4",
   "metadata": {},
   "outputs": [],
   "source": []
  }
 ],
 "metadata": {
  "kernelspec": {
   "display_name": "Python 3 (ipykernel)",
   "language": "python",
   "name": "python3"
  },
  "language_info": {
   "codemirror_mode": {
    "name": "ipython",
    "version": 3
   },
   "file_extension": ".py",
   "mimetype": "text/x-python",
   "name": "python",
   "nbconvert_exporter": "python",
   "pygments_lexer": "ipython3",
   "version": "3.10.8"
  }
 },
 "nbformat": 4,
 "nbformat_minor": 5
}
